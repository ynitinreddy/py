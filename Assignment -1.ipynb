{
 "cells": [
  {
   "cell_type": "code",
   "execution_count": 1,
   "metadata": {},
   "outputs": [
    {
     "name": "stdout",
     "output_type": "stream",
     "text": [
      "Enter the first number17\n",
      "Enter the second number12\n",
      "addition= 29\n",
      "subtraction= 5\n",
      "product= 204\n",
      "modulus= 5\n",
      "exponential= 582622237229761\n",
      "division= 1\n"
     ]
    }
   ],
   "source": [
    "# Python program to perform ADDITION,SUBTRACTION,MULTIPLICATION,DIVISION,MODULOUS,EXPONENT,AND FLOOR DIVISION\n",
    "x=int(input(\"Enter the first number\"))\n",
    "y=int(input(\"Enter the second number\"))\n",
    "sum=x+y\n",
    "print( \"addition=\",sum)\n",
    "d=x-y\n",
    "print(\"subtraction=\", d)\n",
    "p=x*y\n",
    "print(\"product=\",p)\n",
    "mod=x%y\n",
    "print(\"modulus=\",mod)\n",
    "exp=x**y\n",
    "print(\"exponential=\",exp)\n",
    "div=x//y\n",
    "print(\"division=\",div)\n",
    "\n",
    "\n",
    "\n",
    "\n"
   ]
  },
  {
   "cell_type": "code",
   "execution_count": 2,
   "metadata": {},
   "outputs": [
    {
     "name": "stdout",
     "output_type": "stream",
     "text": [
      "Enter the principle Amount=45\n",
      "Enter the Time period=3\n",
      "Enter the Rate of Intrest=2\n",
      "Simple Intrest=  2.7\n"
     ]
    }
   ],
   "source": [
    "#Python program to calculate SIMPLE INTREST\n",
    "p=float(input(\"Enter the principle Amount=\"))\n",
    "t=float(input(\"Enter the Time period=\"))\n",
    "r=float(input(\"Enter the Rate of Intrest=\"))\n",
    "si=0.01*p*t*r\n",
    "print(\"Simple Intrest= \",si)\n"
   ]
  },
  {
   "cell_type": "code",
   "execution_count": 3,
   "metadata": {},
   "outputs": [
    {
     "name": "stdout",
     "output_type": "stream",
     "text": [
      "Enter the radius of the circle=5\n",
      "The Area of the circle is  78.5\n"
     ]
    }
   ],
   "source": [
    "#Python program to find Area of a Circle\n",
    "r=float(input(\"Enter the radius of the circle=\"))\n",
    "area=3.14*r*r\n",
    "print(\"The Area of the circle is \",area)\n",
    "\n"
   ]
  },
  {
   "cell_type": "code",
   "execution_count": 4,
   "metadata": {},
   "outputs": [
    {
     "name": "stdout",
     "output_type": "stream",
     "text": [
      "Enter the breadth =5\n",
      "Enter the height =7\n",
      "The area of the Triangle= 17.5\n"
     ]
    }
   ],
   "source": [
    "#Python program to find area of Triangle\n",
    "b=float(input(\"Enter the breadth =\"))\n",
    "h=float(input(\"Enter the height =\"))\n",
    "area=0.5*b*h\n",
    "print(\"The area of the Triangle=\",area)\n"
   ]
  },
  {
   "cell_type": "code",
   "execution_count": 7,
   "metadata": {},
   "outputs": [
    {
     "name": "stdout",
     "output_type": "stream",
     "text": [
      "Enter the celsius value=20\n",
      "The required fahrenheit value for the given 20.0 celcius is 68.0 fahrenheit\n"
     ]
    }
   ],
   "source": [
    "#Python program to convert celsius to Fahrenheit\n",
    "cel=float(input(\"Enter the celsius value=\"))\n",
    "f=(cel*1.8)+32\n",
    "print(\"The required fahrenheit value for the given\",cel,\"celcius is\",f,\"fahrenheit\")\n",
    "\n",
    "\n",
    "\n",
    "\n"
   ]
  },
  {
   "cell_type": "code",
   "execution_count": 8,
   "metadata": {},
   "outputs": [
    {
     "name": "stdout",
     "output_type": "stream",
     "text": [
      "Enter the lenght =9\n",
      "Enter the breadth =8\n",
      "The area of the Rectangle= 72.0\n"
     ]
    }
   ],
   "source": [
    "#Python program to find area of Rectangle\n",
    "l=float(input(\"Enter the lenght =\"))\n",
    "b=float(input(\"Enter the breadth =\"))\n",
    "area=l*b\n",
    "print(\"The area of the Rectangle=\",area)\n",
    "\n"
   ]
  },
  {
   "cell_type": "code",
   "execution_count": 9,
   "metadata": {},
   "outputs": [
    {
     "name": "stdout",
     "output_type": "stream",
     "text": [
      "Enter the side of the square =8\n",
      "The perimeter of the Square = 32.0\n"
     ]
    }
   ],
   "source": [
    "#Python program to find perimeter of the Square\n",
    "a=float(input(\"Enter the side of the square =\"))\n",
    "result=4*a\n",
    "print(\"The perimeter of the Square =\",result)\n",
    "\n"
   ]
  },
  {
   "cell_type": "code",
   "execution_count": 10,
   "metadata": {},
   "outputs": [
    {
     "name": "stdout",
     "output_type": "stream",
     "text": [
      "Enter the radius of the circle=9.6\n",
      "The Circumference of the circle is  60.288\n"
     ]
    }
   ],
   "source": [
    "#Python program to find Circumference of a Circle\n",
    "r=float(input(\"Enter the radius of the circle=\"))\n",
    "circumference=2*3.14*r\n",
    "print(\"The Circumference of the circle is \",circumference)\n",
    "\n",
    "\n"
   ]
  },
  {
   "cell_type": "code",
   "execution_count": 11,
   "metadata": {},
   "outputs": [
    {
     "name": "stdout",
     "output_type": "stream",
     "text": [
      "Enter the first number =78\n",
      "Enter the second number =56\n",
      "Before swapping x= 78.0 y= 56.0\n",
      "After swapping x= 56.0 y= 78.0\n"
     ]
    }
   ],
   "source": [
    "#Python program to Swap two numbers\n",
    "x=float(input(\"Enter the first number =\"))\n",
    "y=float(input(\"Enter the second number =\"))\n",
    "print(\"Before swapping x=\",x,\"y=\",y)\n",
    "x=x+y\n",
    "y=x-y\n",
    "x=x-y\n",
    "print(\"After swapping x=\",x,\"y=\",y)"
   ]
  },
  {
   "cell_type": "code",
   "execution_count": null,
   "metadata": {},
   "outputs": [],
   "source": []
  }
 ],
 "metadata": {
  "kernelspec": {
   "display_name": "Python 3",
   "language": "python",
   "name": "python3"
  },
  "language_info": {
   "codemirror_mode": {
    "name": "ipython",
    "version": 3
   },
   "file_extension": ".py",
   "mimetype": "text/x-python",
   "name": "python",
   "nbconvert_exporter": "python",
   "pygments_lexer": "ipython3",
   "version": "3.8.3"
  }
 },
 "nbformat": 4,
 "nbformat_minor": 4
}
